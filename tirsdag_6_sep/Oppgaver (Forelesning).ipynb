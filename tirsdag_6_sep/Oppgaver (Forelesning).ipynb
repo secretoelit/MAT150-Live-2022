{
 "cells": [
  {
   "cell_type": "code",
   "execution_count": 3,
   "id": "29fd836a-f80e-4216-a911-4da1ef7d3ebe",
   "metadata": {},
   "outputs": [
    {
     "name": "stdout",
     "output_type": "stream",
     "text": [
      "4\n"
     ]
    }
   ],
   "source": [
    "# Regne ut absoluttverdien til ett tall:\n",
    "\n",
    "## Absoluttverdi: |x| = x hvis x ≥ 0, |x| = −x hvis x < 0\n",
    "## Hvis x er negativ, gjør det positivt. Hvis x er positiv, gjør det negativt. Ellers gjør nada.\n",
    "\n",
    "'''\n",
    "Pseudokode:\n",
    "\n",
    "input x\n",
    "if x < 0 then \n",
    "    x = -x\n",
    "end if\n",
    "output x\n",
    "'''\n",
    "\n",
    "# Her kommer python koden\n",
    "x=-4\n",
    "if x<0:\n",
    "    x=-x\n",
    "print(x)"
   ]
  },
  {
   "cell_type": "code",
   "execution_count": 6,
   "id": "ac60b919-76bd-4d34-a096-dbde5918c63e",
   "metadata": {},
   "outputs": [
    {
     "name": "stdout",
     "output_type": "stream",
     "text": [
      "4\n"
     ]
    }
   ],
   "source": [
    "# Beskriv en algoritme som regner avstanden mellom to heltall\n",
    "## d(n,m) = |n-m|\n",
    "## Hvis n er større enn m n-m, hvis ikke m-n.\n",
    "\n",
    "'''\n",
    "Pseudokode:\n",
    "input n\n",
    "input m\n",
    "if n > m then\n",
    "    d<- n-m\n",
    "else:\n",
    "    d<- m-n\n",
    "output d\n",
    "'''\n",
    "\n",
    "# Her kommer python koden\n",
    "n=3\n",
    "m=7\n",
    "if n>m:\n",
    "    d=n-m\n",
    "else:\n",
    "    d=m-n\n",
    "print(d)"
   ]
  },
  {
   "cell_type": "code",
   "execution_count": 8,
   "id": "68dc554e-3cb8-4ff4-a12c-40162eb8a800",
   "metadata": {},
   "outputs": [
    {
     "name": "stdout",
     "output_type": "stream",
     "text": [
      "30414093201713378043612608166064768844377641568960512000000000000\n",
      "51\n"
     ]
    }
   ],
   "source": [
    "# Beskriv en algoritme som regner tallet n! = 1 * 2 * 3 **** n ved hjelp av while ---do--- løkken.\n",
    "## 5! = 1*2*3*4*5=120\n",
    "## 10! = 1*2*3*4*5*6*7*8*9*10\n",
    "\n",
    "'''\n",
    "Pseudokode:\n",
    "input n\n",
    "i<-1\n",
    "x<-1\n",
    "while i<n do\n",
    "    x<-x*i\n",
    "    i<-i+1\n",
    "output x\n",
    "'''\n",
    "\n",
    "# Her kommer python koden\n",
    "n=50\n",
    "i=1\n",
    "x=1\n",
    "while i<=n:\n",
    "    x=x*i\n",
    "    i=i+1\n",
    "print(x)\n",
    "print(i)\n"
   ]
  },
  {
   "cell_type": "code",
   "execution_count": 10,
   "id": "e8e9439c-f086-4a17-b728-375e63cef811",
   "metadata": {},
   "outputs": [
    {
     "name": "stdout",
     "output_type": "stream",
     "text": [
      "362880\n"
     ]
    }
   ],
   "source": [
    "# Beskrive en algoritme som regner tallet n! = 1*2*3****n ved hjelp av for--to--do løkken.\n",
    "\n",
    "'''\n",
    "Pseudokode:\n",
    "input n\n",
    "i<=1\n",
    "x<=1\n",
    "for i=1 to n do\n",
    "    x <- x*i\n",
    "output x\n",
    "'''\n",
    "\n",
    "# Her kommer python koden\n",
    "n=10\n",
    "x=1\n",
    "i=1\n",
    "for i in range(1,n):\n",
    "    x=x*i\n",
    "print(x)\n",
    "    "
   ]
  },
  {
   "cell_type": "code",
   "execution_count": 34,
   "id": "eb83a4c3-a200-41fc-b0da-e94e17d20417",
   "metadata": {},
   "outputs": [
    {
     "name": "stdout",
     "output_type": "stream",
     "text": [
      "55\n"
     ]
    }
   ],
   "source": [
    "# Finne en algoritme for å finne ledd nr. n i følgen 1,1,2,3,5,8,13,21,34,55... av Fibonacci-tall.\n",
    "## Summen av tallet er summen av de to foregående tallene. 1 1 2 3 5 8 13 21\n",
    "\n",
    "\n",
    "'''\n",
    "Pseudokode:\n",
    "input n\n",
    "an-2<-1\n",
    "an-1<-1\n",
    "an<-1\n",
    "\n",
    "for i=3 to n do\n",
    "    an<-an-1+an-2\n",
    "    an-2<-an-1\n",
    "    an-1<-an\n",
    "output an\n",
    "'''\n",
    "\n",
    "# Her kommer python koden:\n",
    "n=10\n",
    "a_to=1\n",
    "a_en=1\n",
    "an=1\n",
    "for i in range(2,n):\n",
    "    an=a_en+a_to\n",
    "    a_to=a_en\n",
    "    a_en=an\n",
    "print(an)"
   ]
  },
  {
   "cell_type": "code",
   "execution_count": 40,
   "id": "e849470a-479e-488b-a6f2-631f27e19b34",
   "metadata": {},
   "outputs": [
    {
     "name": "stdout",
     "output_type": "stream",
     "text": [
      "0\n",
      "1\n"
     ]
    }
   ],
   "source": [
    "# SWAP: Finne en algoritme som bytter verdien på to variabler\n",
    "\n",
    "'''\n",
    "Pseudokode:\n",
    "input x<-1\n",
    "input y1-0\n",
    "\n",
    "temp<-x\n",
    "x<-y\n",
    "y<-x\n",
    "\n",
    "output x\n",
    "output y\n",
    "'''\n",
    "\n",
    "# Python kode:\n",
    "\n",
    "x=1\n",
    "y=0\n",
    "\n",
    "temp=x\n",
    "x=y\n",
    "y=temp\n",
    "\n",
    "print(x)\n",
    "print(y)\n"
   ]
  },
  {
   "cell_type": "code",
   "execution_count": 50,
   "id": "4faeaec4-ebbd-45d6-bb0b-f18c225af384",
   "metadata": {},
   "outputs": [
    {
     "name": "stdout",
     "output_type": "stream",
     "text": [
      "500.0\n",
      "250.0\n",
      "125.0\n",
      "376.0\n",
      "188.0\n",
      "94.0\n",
      "47.0\n",
      "142.0\n",
      "71.0\n",
      "214.0\n",
      "107.0\n",
      "322.0\n",
      "161.0\n",
      "484.0\n",
      "242.0\n",
      "121.0\n",
      "364.0\n",
      "182.0\n",
      "91.0\n",
      "274.0\n",
      "137.0\n",
      "412.0\n",
      "206.0\n",
      "103.0\n",
      "310.0\n",
      "155.0\n",
      "466.0\n",
      "233.0\n",
      "700.0\n",
      "350.0\n",
      "175.0\n",
      "526.0\n",
      "263.0\n",
      "790.0\n",
      "395.0\n",
      "1186.0\n",
      "593.0\n",
      "1780.0\n",
      "890.0\n",
      "445.0\n",
      "1336.0\n",
      "668.0\n",
      "334.0\n",
      "167.0\n",
      "502.0\n",
      "251.0\n",
      "754.0\n",
      "377.0\n",
      "1132.0\n",
      "566.0\n",
      "283.0\n",
      "850.0\n",
      "425.0\n",
      "1276.0\n",
      "638.0\n",
      "319.0\n",
      "958.0\n",
      "479.0\n",
      "1438.0\n",
      "719.0\n",
      "2158.0\n",
      "1079.0\n",
      "3238.0\n",
      "1619.0\n",
      "4858.0\n",
      "2429.0\n",
      "7288.0\n",
      "3644.0\n",
      "1822.0\n",
      "911.0\n",
      "2734.0\n",
      "1367.0\n",
      "4102.0\n",
      "2051.0\n",
      "6154.0\n",
      "3077.0\n",
      "9232.0\n",
      "4616.0\n",
      "2308.0\n",
      "1154.0\n",
      "577.0\n",
      "1732.0\n",
      "866.0\n",
      "433.0\n",
      "1300.0\n",
      "650.0\n",
      "325.0\n",
      "976.0\n",
      "488.0\n",
      "244.0\n",
      "122.0\n",
      "61.0\n",
      "184.0\n",
      "92.0\n",
      "46.0\n",
      "23.0\n",
      "70.0\n",
      "35.0\n",
      "106.0\n",
      "53.0\n",
      "160.0\n",
      "80.0\n",
      "40.0\n",
      "20.0\n",
      "10.0\n",
      "5.0\n",
      "16.0\n",
      "8.0\n",
      "4.0\n",
      "2.0\n",
      "1.0\n"
     ]
    }
   ],
   "source": [
    "# Pseudokode: Collatz hypotese\n",
    "## Anta du tar inn et positivt heltall n. Gjenta følgende inntil du får 1 eller mindre:\n",
    "## 1. Hvis tallet er et partall, del med 2.\n",
    "## 2. Hvis tallet er et oddetall, tredoble tallet og legg til 1.\n",
    "\n",
    "'''\n",
    "Pseudokode:\n",
    "input n\n",
    "while n>i do\n",
    "    if(n er partall) then\n",
    "        n<-n/2\n",
    "    else \n",
    "        n<-3n+1\n",
    "output n\n",
    "'''\n",
    "\n",
    "# Her kommer python koden\n",
    "n=1000\n",
    "while n>1:\n",
    "    if (n%2)==0:\n",
    "        n=n/2\n",
    "    else:\n",
    "        n=3*n+1\n",
    "    print(n)"
   ]
  },
  {
   "cell_type": "code",
   "execution_count": null,
   "id": "c148f440-e54a-43d4-8dda-176a31e22ef6",
   "metadata": {},
   "outputs": [],
   "source": []
  }
 ],
 "metadata": {
  "kernelspec": {
   "display_name": "Python 3 (ipykernel)",
   "language": "python",
   "name": "python3"
  },
  "language_info": {
   "codemirror_mode": {
    "name": "ipython",
    "version": 3
   },
   "file_extension": ".py",
   "mimetype": "text/x-python",
   "name": "python",
   "nbconvert_exporter": "python",
   "pygments_lexer": "ipython3",
   "version": "3.9.12"
  }
 },
 "nbformat": 4,
 "nbformat_minor": 5
}

{
 "cells": [
  {
   "cell_type": "markdown",
   "id": "73587e04-8607-4b9a-b678-4a7bb846bed3",
   "metadata": {},
   "source": [
    "# Oppgave 1\n",
    "\n",
    "Beskriv en algoritme som finner det minste tallet i en liste av tall."
   ]
  },
  {
   "cell_type": "code",
   "execution_count": 3,
   "id": "50b032de-3be1-4b62-87cf-b10c9e01a2bc",
   "metadata": {},
   "outputs": [],
   "source": [
    "#Write python code here\n",
    "\n",
    "\n",
    "\n"
   ]
  },
  {
   "cell_type": "markdown",
   "id": "8fd3ab91-7354-425c-abb7-4f9f57f22dc8",
   "metadata": {},
   "source": [
    "# Oppgave 2\n",
    "\n",
    "Lag en algoritme som sjekker om en streng $𝑎_1 𝑎_2⋯𝑎_𝑛$ av $n$ tegn består av kun sifre, eller om ikke-sifre forekommer, og skriv ut en passende melding."
   ]
  },
  {
   "cell_type": "code",
   "execution_count": 4,
   "id": "c056085a-b6d0-4e88-9a13-b48626426e54",
   "metadata": {},
   "outputs": [],
   "source": [
    "#Write python code here\n",
    "\n",
    "\n",
    "\n"
   ]
  },
  {
   "cell_type": "markdown",
   "id": "ab2422ed-1fcd-4e04-aded-4599432ece4f",
   "metadata": {},
   "source": [
    "# Oppgave 3\n",
    "\n",
    "Lag en algoritme som regner ut $𝑥^𝑛$ hvor $x$ er et tall og $n$ er et positivt heltall (Vi antar at vi har multiplikasjon men ikke potens)."
   ]
  },
  {
   "cell_type": "code",
   "execution_count": 6,
   "id": "05b0ac98-3640-4743-adfa-7ae4c1a4c22a",
   "metadata": {},
   "outputs": [],
   "source": [
    "#Write python code here\n",
    "\n",
    "\n",
    "\n",
    "\n"
   ]
  },
  {
   "cell_type": "markdown",
   "id": "1afb772d-030a-430f-97bb-a57216e0c040",
   "metadata": {},
   "source": [
    "# Oppgave 4\n",
    "\n",
    "Lag en algoritme som bytter verdien til to variable. "
   ]
  },
  {
   "cell_type": "code",
   "execution_count": 7,
   "id": "8edae548-b494-49ff-bd8a-93dd63250a3c",
   "metadata": {},
   "outputs": [],
   "source": [
    "#Write python code here\n",
    "\n",
    "\n",
    "\n",
    "\n"
   ]
  },
  {
   "cell_type": "markdown",
   "id": "bf4c8f8e-8558-4996-b612-1a8631668ce0",
   "metadata": {},
   "source": [
    "# Oppgave 5\n",
    "\n",
    "Søkere til en jobb tar en test med 20 spørsmål. Lag en algoritme som returnerer en liste av jobbsøkere (identifisert med tall), deres poengsum og en beskjed om hvorvidt de vurderes for stillingen (de som har mer enn 16 poeng) eller settes på venteliste (de med poengsum fra 12 til 15). "
   ]
  },
  {
   "cell_type": "code",
   "execution_count": 8,
   "id": "e301b84e-4e82-4783-b766-8d62f2843fa4",
   "metadata": {},
   "outputs": [],
   "source": [
    "#Write python code here\n",
    "\n",
    "\n",
    "\n"
   ]
  },
  {
   "cell_type": "markdown",
   "id": "0bc859fe-6562-4a4e-bcd7-ccbc2f5d5ee9",
   "metadata": {},
   "source": [
    "# Oppgave 6\n",
    "\n",
    "Modifiser algoritmen fra oppgave 1 slik at den også returnerer posisjonen i listen hvor det minste tallet forekommer."
   ]
  },
  {
   "cell_type": "code",
   "execution_count": 11,
   "id": "05071034-cba7-473d-80da-a29187be19a1",
   "metadata": {},
   "outputs": [],
   "source": [
    "#Write python code here\n",
    "\n",
    "\n",
    "\n"
   ]
  },
  {
   "cell_type": "markdown",
   "id": "abd2a715-d0ae-4070-9728-8888aacc3221",
   "metadata": {},
   "source": [
    "# Oppgave 7\n",
    "\n",
    "Skriv en algoritme som tar som input et tall n og som regner ut $1^2+2^2+3^2+⋯𝑛^2$"
   ]
  },
  {
   "cell_type": "code",
   "execution_count": 12,
   "id": "be40db02-6651-4372-960a-c34fade85c80",
   "metadata": {},
   "outputs": [],
   "source": [
    "#Write python code here\n",
    "\n",
    "\n",
    "\n",
    "\n"
   ]
  },
  {
   "cell_type": "markdown",
   "id": "cca5cbca-46d8-49ee-aba8-ae8a1db44bd9",
   "metadata": {},
   "source": [
    "# Oppgave 8\n",
    "\n",
    "Skriv en algoritme som tar en liste av tall, som sjekker om tallenes størrelse øker og som returnerer en passende melding. Algoritmen skal designes slik at sjekkingen stopper med en gang svaret er gitt.\n"
   ]
  },
  {
   "cell_type": "code",
   "execution_count": 13,
   "id": "d2e2491e-e72d-443c-a1b7-5475f5fbd5b1",
   "metadata": {},
   "outputs": [],
   "source": [
    "#Write python code here\n",
    "\n",
    "\n",
    "\n",
    "\n"
   ]
  },
  {
   "cell_type": "code",
   "execution_count": null,
   "id": "79a85afb-1e45-4fa8-9497-a298df865255",
   "metadata": {},
   "outputs": [],
   "source": []
  }
 ],
 "metadata": {
  "kernelspec": {
   "display_name": "Python 3 (ipykernel)",
   "language": "python",
   "name": "python3"
  },
  "language_info": {
   "codemirror_mode": {
    "name": "ipython",
    "version": 3
   },
   "file_extension": ".py",
   "mimetype": "text/x-python",
   "name": "python",
   "nbconvert_exporter": "python",
   "pygments_lexer": "ipython3",
   "version": "3.9.12"
  }
 },
 "nbformat": 4,
 "nbformat_minor": 5
}
